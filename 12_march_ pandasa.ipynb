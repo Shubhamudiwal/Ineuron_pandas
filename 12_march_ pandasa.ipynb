{
 "cells": [
  {
   "cell_type": "code",
   "execution_count": 1,
   "id": "6a2e2bea",
   "metadata": {},
   "outputs": [
    {
     "data": {
      "text/plain": [
       "'Shuzham'"
      ]
     },
     "execution_count": 1,
     "metadata": {},
     "output_type": "execute_result"
    }
   ],
   "source": [
    "name = 'Shubham'\n",
    "name.replace('b','z')"
   ]
  },
  {
   "cell_type": "code",
   "execution_count": 14,
   "id": "976aab93",
   "metadata": {},
   "outputs": [
    {
     "name": "stdout",
     "output_type": "stream",
     "text": [
      "S\n",
      "Shubham\n",
      "h\n",
      "Shubham\n",
      "u\n",
      "Shubham\n",
      "b\n",
      "Shubham\n",
      "h\n",
      "Shubham\n",
      "a\n",
      "Shubham\n",
      "m\n",
      "Shubham\n"
     ]
    }
   ],
   "source": [
    "for i in list(name):\n",
    "    print(i)\n",
    "    if i == 'b':\n",
    "        i = 'x'\n",
    "    print(name)"
   ]
  },
  {
   "cell_type": "code",
   "execution_count": 13,
   "id": "cdb51de8",
   "metadata": {},
   "outputs": [
    {
     "data": {
      "text/plain": [
       "'Shubham'"
      ]
     },
     "execution_count": 13,
     "metadata": {},
     "output_type": "execute_result"
    }
   ],
   "source": [
    "name"
   ]
  },
  {
   "cell_type": "code",
   "execution_count": null,
   "id": "5d6c2150",
   "metadata": {},
   "outputs": [],
   "source": []
  },
  {
   "cell_type": "code",
   "execution_count": null,
   "id": "6613ea74",
   "metadata": {},
   "outputs": [],
   "source": [
    "\n"
   ]
  }
 ],
 "metadata": {
  "kernelspec": {
   "display_name": "Python 3",
   "language": "python",
   "name": "python3"
  },
  "language_info": {
   "codemirror_mode": {
    "name": "ipython",
    "version": 3
   },
   "file_extension": ".py",
   "mimetype": "text/x-python",
   "name": "python",
   "nbconvert_exporter": "python",
   "pygments_lexer": "ipython3",
   "version": "3.8.8"
  }
 },
 "nbformat": 4,
 "nbformat_minor": 5
}
