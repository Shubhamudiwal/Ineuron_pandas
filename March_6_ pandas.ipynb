{
 "cells": [
  {
   "cell_type": "code",
   "execution_count": 7,
   "id": "ec9e13c4",
   "metadata": {},
   "outputs": [
    {
     "name": "stdout",
     "output_type": "stream",
     "text": [
      "19 is a prime number \n"
     ]
    }
   ],
   "source": [
    "\"Shubham\"\n",
    "list1= [19]\n",
    "#a = input(\"Enter : \" )\n",
    "for i in list1:\n",
    "    if i%2==0:\n",
    "        if i == 2:\n",
    "            print(str(i) + \" is a prime number \")\n",
    "        else:\n",
    "            pass\n",
    "    else:\n",
    "        if i%1 == 0 and i%i == 0:\n",
    "            print(str(i) + \" is a prime number \")\n",
    "    "
   ]
  },
  {
   "cell_type": "code",
   "execution_count": 3,
   "id": "4e8e5228",
   "metadata": {},
   "outputs": [
    {
     "name": "stdout",
     "output_type": "stream",
     "text": [
      "Enter : 371\n",
      "370\n",
      "70\n",
      "0\n"
     ]
    }
   ],
   "source": [
    "a = int(input(\"Enter : \" ))\n",
    "while a > 0:\n",
    "    i = a%10\n",
    "    if a > 10:\n",
    "        a = a-i\n",
    "        print(a)\n",
    "        a=a%100\n",
    "        if a > 10:\n",
    "            print(a)\n",
    "            a=a%10\n",
    "            print(a)\n",
    "        "
   ]
  },
  {
   "cell_type": "code",
   "execution_count": null,
   "id": "5417cca2",
   "metadata": {},
   "outputs": [],
   "source": []
  },
  {
   "cell_type": "code",
   "execution_count": null,
   "id": "2eaff607",
   "metadata": {},
   "outputs": [],
   "source": []
  }
 ],
 "metadata": {
  "kernelspec": {
   "display_name": "Python 3",
   "language": "python",
   "name": "python3"
  },
  "language_info": {
   "codemirror_mode": {
    "name": "ipython",
    "version": 3
   },
   "file_extension": ".py",
   "mimetype": "text/x-python",
   "name": "python",
   "nbconvert_exporter": "python",
   "pygments_lexer": "ipython3",
   "version": "3.8.8"
  }
 },
 "nbformat": 4,
 "nbformat_minor": 5
}
